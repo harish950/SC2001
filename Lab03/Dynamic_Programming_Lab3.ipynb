{
 "cells": [
  {
   "cell_type": "markdown",
   "id": "895a1c4c",
   "metadata": {},
   "source": [
    "# Lab 3"
   ]
  },
  {
   "cell_type": "markdown",
   "id": "d2091f49",
   "metadata": {},
   "source": [
    "## Recursive Definition of P(C)"
   ]
  },
  {
   "cell_type": "markdown",
   "id": "148b3cc1",
   "metadata": {},
   "source": [
    "$$dp(c) = \\max( \\{0\\} \\cup \\{ p_i + dp(c - w_i) \\mid i = 0 \\dots n-1 \\text{ and } w_i \\le c \\} )$$\n",
    "\n",
    "Where:\n",
    "* $p_i$: profit of the $i$-th object\n",
    "* $w_i$: weight of the $i$-th object\n",
    "* $dp(c)$: maximum attainable profit using capacity $c$\n",
    "* $n$: number of different type of objects\n"
   ]
  },
  {
   "cell_type": "markdown",
   "id": "0bfb4980",
   "metadata": {},
   "source": [
    "## Bottom-up approach"
   ]
  },
  {
   "cell_type": "code",
   "execution_count": null,
   "id": "06822f6f",
   "metadata": {},
   "outputs": [],
   "source": [
    "def bottom_P(C, n, w, p):\n",
    "    '''\n",
    "    C: capacity weight C\n",
    "    n: number of different type of objects\n",
    "    w: weight array of different type of objects\n",
    "    p: profit array of different type of objects\n",
    "\n",
    "    return dp array and the final answer\n",
    "    '''\n",
    "    # dp array, initialise all to be 0\n",
    "    dp = [0]*(C+1)\n",
    "\n",
    "    # iterate from c = 1 to C+1\n",
    "    for cap in range(1, C+1):\n",
    "        # iterate through each object type\n",
    "        for obj in range(n):\n",
    "            if cap-w[obj]>=0:\n",
    "                dp[cap] = max(dp[cap], dp[cap-w[obj]]+p[obj])\n",
    "        print(f\"Iteration P({cap}): {dp}\")\n",
    "        \n",
    "    return (dp, dp[C])"
   ]
  },
  {
   "cell_type": "markdown",
   "id": "9157b8cb",
   "metadata": {},
   "source": [
    "### First test run on P(14)"
   ]
  },
  {
   "cell_type": "code",
   "execution_count": null,
   "id": "ef457d61",
   "metadata": {},
   "outputs": [
    {
     "name": "stdout",
     "output_type": "stream",
     "text": [
      "Iteration P(1): [0, 0, 0, 0, 0, 0, 0, 0, 0, 0, 0, 0, 0, 0, 0]\n",
      "Iteration P(2): [0, 0, 0, 0, 0, 0, 0, 0, 0, 0, 0, 0, 0, 0, 0]\n",
      "Iteration P(3): [0, 0, 0, 0, 0, 0, 0, 0, 0, 0, 0, 0, 0, 0, 0]\n",
      "Iteration P(4): [0, 0, 0, 0, 7, 0, 0, 0, 0, 0, 0, 0, 0, 0, 0]\n",
      "Iteration P(5): [0, 0, 0, 0, 7, 7, 0, 0, 0, 0, 0, 0, 0, 0, 0]\n",
      "Iteration P(6): [0, 0, 0, 0, 7, 7, 7, 0, 0, 0, 0, 0, 0, 0, 0]\n",
      "Iteration P(7): [0, 0, 0, 0, 7, 7, 7, 7, 0, 0, 0, 0, 0, 0, 0]\n",
      "Iteration P(8): [0, 0, 0, 0, 7, 7, 7, 7, 14, 0, 0, 0, 0, 0, 0]\n",
      "Iteration P(9): [0, 0, 0, 0, 7, 7, 7, 7, 14, 14, 0, 0, 0, 0, 0]\n",
      "Iteration P(10): [0, 0, 0, 0, 7, 7, 7, 7, 14, 14, 14, 0, 0, 0, 0]\n",
      "Iteration P(11): [0, 0, 0, 0, 7, 7, 7, 7, 14, 14, 14, 14, 0, 0, 0]\n",
      "Iteration P(12): [0, 0, 0, 0, 7, 7, 7, 7, 14, 14, 14, 14, 21, 0, 0]\n",
      "Iteration P(13): [0, 0, 0, 0, 7, 7, 7, 7, 14, 14, 14, 14, 21, 21, 0]\n",
      "Iteration P(14): [0, 0, 0, 0, 7, 7, 7, 7, 14, 14, 14, 14, 21, 21, 21]\n",
      "([0, 0, 0, 0, 7, 7, 7, 7, 14, 14, 14, 14, 21, 21, 21], 21)\n"
     ]
    }
   ],
   "source": [
    "w = [4, 6, 8]\n",
    "p = [7, 6, 9]\n",
    "\n",
    "print(bottom_P(14, 3, w, p))\n"
   ]
  },
  {
   "cell_type": "markdown",
   "id": "fe90799a",
   "metadata": {},
   "source": [
    "### Second test run on P(14)"
   ]
  },
  {
   "cell_type": "code",
   "execution_count": null,
   "id": "f3ad6d9a",
   "metadata": {},
   "outputs": [
    {
     "name": "stdout",
     "output_type": "stream",
     "text": [
      "Iteration P(1): [0, 0, 0, 0, 0, 0, 0, 0, 0, 0, 0, 0, 0, 0, 0]\n",
      "Iteration P(2): [0, 0, 0, 0, 0, 0, 0, 0, 0, 0, 0, 0, 0, 0, 0]\n",
      "Iteration P(3): [0, 0, 0, 0, 0, 0, 0, 0, 0, 0, 0, 0, 0, 0, 0]\n",
      "Iteration P(4): [0, 0, 0, 0, 0, 0, 0, 0, 0, 0, 0, 0, 0, 0, 0]\n",
      "Iteration P(5): [0, 0, 0, 0, 0, 7, 0, 0, 0, 0, 0, 0, 0, 0, 0]\n",
      "Iteration P(6): [0, 0, 0, 0, 0, 7, 7, 0, 0, 0, 0, 0, 0, 0, 0]\n",
      "Iteration P(7): [0, 0, 0, 0, 0, 7, 7, 7, 0, 0, 0, 0, 0, 0, 0]\n",
      "Iteration P(8): [0, 0, 0, 0, 0, 7, 7, 7, 9, 0, 0, 0, 0, 0, 0]\n",
      "Iteration P(9): [0, 0, 0, 0, 0, 7, 7, 7, 9, 9, 0, 0, 0, 0, 0]\n",
      "Iteration P(10): [0, 0, 0, 0, 0, 7, 7, 7, 9, 9, 14, 0, 0, 0, 0]\n",
      "Iteration P(11): [0, 0, 0, 0, 0, 7, 7, 7, 9, 9, 14, 14, 0, 0, 0]\n",
      "Iteration P(12): [0, 0, 0, 0, 0, 7, 7, 7, 9, 9, 14, 14, 14, 0, 0]\n",
      "Iteration P(13): [0, 0, 0, 0, 0, 7, 7, 7, 9, 9, 14, 14, 14, 16, 0]\n",
      "Iteration P(14): [0, 0, 0, 0, 0, 7, 7, 7, 9, 9, 14, 14, 14, 16, 16]\n",
      "([0, 0, 0, 0, 0, 7, 7, 7, 9, 9, 14, 14, 14, 16, 16], 16)\n"
     ]
    }
   ],
   "source": [
    "w = [5, 6, 8]\n",
    "p = [7, 6, 9]\n",
    "\n",
    "print(bottom_P(14, 3, w, p))"
   ]
  },
  {
   "cell_type": "markdown",
   "id": "68a5ba95",
   "metadata": {},
   "source": [
    "## Top-down approach\n"
   ]
  },
  {
   "cell_type": "code",
   "execution_count": 43,
   "id": "5305ffc9",
   "metadata": {},
   "outputs": [],
   "source": [
    "#initialise dp memoisation\n",
    "dp = {}\n",
    "def top_P(C, n, w, p):\n",
    "    '''\n",
    "    C: capacity weight C\n",
    "    n: number of different type of objects\n",
    "    w: weight array of different type of objects\n",
    "    p: profit array of different type of objects\n",
    "\n",
    "    return dp array and the final answer\n",
    "    '''\n",
    "    if C == 0: \n",
    "        return 0\n",
    "    if C < 0:\n",
    "        return float('-inf')\n",
    "    if C in dp:\n",
    "        return dp[C]\n",
    "    \n",
    "    curr_max_profit = 0\n",
    "    for obj in range(n):\n",
    "        curr_max_profit = max(curr_max_profit, p[obj] + top_P(C-w[obj], n, w, p))\n",
    "\n",
    "    dp[C] = curr_max_profit\n",
    "    return dp[C]"
   ]
  },
  {
   "cell_type": "code",
   "execution_count": 46,
   "id": "5377446f",
   "metadata": {},
   "outputs": [
    {
     "name": "stdout",
     "output_type": "stream",
     "text": [
      "16\n"
     ]
    }
   ],
   "source": [
    "dp = {}\n",
    "w = [5, 6, 8]\n",
    "p = [7, 6, 9]\n",
    "\n",
    "print(top_P(14, 3, w, p))"
   ]
  },
  {
   "cell_type": "markdown",
   "id": "cd60f6c3",
   "metadata": {},
   "source": [
    "## Complexity analysis"
   ]
  },
  {
   "cell_type": "markdown",
   "id": "ff045108",
   "metadata": {},
   "source": [
    "\n",
    "### **Mathematical Analysis**\n",
    "\n",
    "**Number of Subproblems:**  \n",
    "There are \\( O(C) \\) distinct subproblems to solve:  \n",
    "\\( dp(0), dp(1), dp(2), \\dots, dp(C) \\)\n",
    "\n",
    "---\n",
    "\n",
    "**Work per Subproblem:**  \n",
    "To compute each \\( dp(c) \\), we loop through all \\( n \\) items:\n",
    "\n",
    "$$\n",
    "\\max_{0 \\le i < n} \\{ p_i + dp(c - w_i) \\}\n",
    "$$\n",
    "\n",
    "This takes:\n",
    "\n",
    "$$\n",
    "O(n)\n",
    "$$\n",
    "\n",
    "---\n",
    "\n",
    "**Total Time Complexity:**  \n",
    "\n",
    "$$\n",
    "T(C, n) = O(C) \\times O(n) = O(Cn)\n",
    "$$\n",
    "\n",
    "---\n",
    "\n",
    "**Total Space Complexity:**  \n",
    "\n",
    "$$\n",
    "S(C) = O(C)\n",
    "$$\n",
    "\n",
    "Since a DP array of size \\( C + 1 \\) is used.\n"
   ]
  },
  {
   "cell_type": "markdown",
   "id": "4d85cf00",
   "metadata": {},
   "source": []
  }
 ],
 "metadata": {
  "kernelspec": {
   "display_name": "Python 3",
   "language": "python",
   "name": "python3"
  },
  "language_info": {
   "codemirror_mode": {
    "name": "ipython",
    "version": 3
   },
   "file_extension": ".py",
   "mimetype": "text/x-python",
   "name": "python",
   "nbconvert_exporter": "python",
   "pygments_lexer": "ipython3",
   "version": "3.12.10"
  }
 },
 "nbformat": 4,
 "nbformat_minor": 5
}
